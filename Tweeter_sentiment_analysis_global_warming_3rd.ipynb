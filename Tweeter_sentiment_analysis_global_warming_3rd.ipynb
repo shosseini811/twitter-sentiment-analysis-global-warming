{
 "cells": [
  {
   "cell_type": "code",
   "execution_count": 1,
   "id": "e6bb7765",
   "metadata": {},
   "outputs": [
    {
     "name": "stderr",
     "output_type": "stream",
     "text": [
      "[nltk_data] Downloading package stopwords to\n",
      "[nltk_data]     /Users/soheilhosseini/nltk_data...\n",
      "[nltk_data]   Package stopwords is already up-to-date!\n",
      "[nltk_data] Downloading package punkt to\n",
      "[nltk_data]     /Users/soheilhosseini/nltk_data...\n",
      "[nltk_data]   Package punkt is already up-to-date!\n"
     ]
    },
    {
     "data": {
      "text/plain": [
       "True"
      ]
     },
     "execution_count": 1,
     "metadata": {},
     "output_type": "execute_result"
    }
   ],
   "source": [
    "import tweepy\n",
    "import datetime\n",
    "\n",
    "import re\n",
    "import string\n",
    "import matplotlib.pyplot as plt\n",
    "\n",
    "import numpy as np\n",
    "import pandas as pd\n",
    "from nltk.corpus import stopwords\n",
    "from nltk.stem import PorterStemmer\n",
    "from nltk.tokenize import TweetTokenizer, word_tokenize\n",
    "\n",
    "from nltk.stem import WordNetLemmatizer\n",
    "\n",
    "import nltk\n",
    "nltk.download(\"stopwords\")\n",
    "nltk.download('punkt')\n",
    "\n"
   ]
  },
  {
   "cell_type": "code",
   "execution_count": 2,
   "id": "910a696a",
   "metadata": {},
   "outputs": [
    {
     "data": {
      "text/plain": [
       "'4.0.0-alpha'"
      ]
     },
     "execution_count": 2,
     "metadata": {},
     "output_type": "execute_result"
    }
   ],
   "source": [
    "tweepy.__version__"
   ]
  },
  {
   "cell_type": "code",
   "execution_count": 3,
   "id": "6b5aa125",
   "metadata": {},
   "outputs": [],
   "source": [
    "# API key\n",
    "consumer_key = \"***\"\n",
    "consumer_secret = \"***\""
   ]
  },
  {
   "cell_type": "code",
   "execution_count": 4,
   "id": "4a2bc126",
   "metadata": {},
   "outputs": [],
   "source": [
    "access_token = \"***\"\n",
    "access_token_secret = \"***\""
   ]
  },
  {
   "cell_type": "code",
   "execution_count": 5,
   "id": "0c944ae6",
   "metadata": {},
   "outputs": [],
   "source": [
    "auth = tweepy.OAuthHandler(consumer_key, consumer_secret)\n",
    "auth.set_access_token(access_token, access_token_secret)\n",
    "\n",
    "api = tweepy.API(auth, wait_on_rate_limit=True)"
   ]
  },
  {
   "cell_type": "code",
   "execution_count": 6,
   "id": "95e7cd55",
   "metadata": {},
   "outputs": [
    {
     "name": "stdout",
     "output_type": "stream",
     "text": [
      "Authentication OK\n"
     ]
    }
   ],
   "source": [
    "try:\n",
    "    api.verify_credentials()\n",
    "    print(\"Authentication OK\")\n",
    "except:\n",
    "    print(\"Error during authentication\")"
   ]
  },
  {
   "cell_type": "code",
   "execution_count": 7,
   "id": "a8eb9eae",
   "metadata": {},
   "outputs": [],
   "source": [
    "query = \"#globalwarming\"\n",
    "\n",
    "status = tweepy.Cursor(api.search_tweets,  q=query, count=1000, lang =\"en\").pages(10)\n"
   ]
  },
  {
   "cell_type": "code",
   "execution_count": 8,
   "id": "1bf08ba7",
   "metadata": {},
   "outputs": [
    {
     "data": {
      "text/plain": [
       "<tweepy.cursor.IdIterator at 0x17a7e38e0>"
      ]
     },
     "execution_count": 8,
     "metadata": {},
     "output_type": "execute_result"
    }
   ],
   "source": [
    "status"
   ]
  },
  {
   "cell_type": "code",
   "execution_count": 9,
   "id": "dea43a3c",
   "metadata": {},
   "outputs": [],
   "source": [
    "created_at = []\n",
    "tweets_org = []\n",
    "for i in status:\n",
    "    for j in range(len(i)):\n",
    "        created_at.append(i[j]._json['created_at']) \n",
    "        tweets_org.append(i[j].text)\n",
    "\n"
   ]
  },
  {
   "cell_type": "code",
   "execution_count": 10,
   "id": "4e5fc70f",
   "metadata": {},
   "outputs": [
    {
     "data": {
      "text/plain": [
       "'RT @OfficialMBTM: Carol hath spoken...\\n\\nMore here https://t.co/QwdtxBeYXU\\n\\n#caroldecker #tpau #musiclegend #climatechange #savetheplanet #g…'"
      ]
     },
     "execution_count": 10,
     "metadata": {},
     "output_type": "execute_result"
    }
   ],
   "source": [
    "tweets_org[3]\n"
   ]
  },
  {
   "cell_type": "code",
   "execution_count": 11,
   "id": "41167358",
   "metadata": {},
   "outputs": [],
   "source": [
    "stopwords_en  = stopwords.words('english')"
   ]
  },
  {
   "cell_type": "code",
   "execution_count": 12,
   "id": "e07a0977",
   "metadata": {},
   "outputs": [],
   "source": [
    "tt = TweetTokenizer()\n"
   ]
  },
  {
   "cell_type": "code",
   "execution_count": 13,
   "id": "cd63def3",
   "metadata": {},
   "outputs": [],
   "source": [
    "lemmatizer = WordNetLemmatizer()"
   ]
  },
  {
   "cell_type": "code",
   "execution_count": 14,
   "id": "9d559910",
   "metadata": {},
   "outputs": [
    {
     "data": {
      "text/plain": [
       "'RT @SCVIndy: @BeeAsMarine Interestingly it’s us that has solution to #climatechange in that each individual’s consumption nonrenewable #Fos…'"
      ]
     },
     "execution_count": 14,
     "metadata": {},
     "output_type": "execute_result"
    }
   ],
   "source": [
    "lemmatizer.lemmatize(tweets_org[0])"
   ]
  },
  {
   "cell_type": "code",
   "execution_count": 15,
   "id": "e445ab71",
   "metadata": {},
   "outputs": [],
   "source": [
    "last_time = max(created_at)\n",
    "first_time = min(created_at)"
   ]
  },
  {
   "cell_type": "code",
   "execution_count": 16,
   "id": "b887476b",
   "metadata": {},
   "outputs": [
    {
     "data": {
      "text/html": [
       "<div>\n",
       "<style scoped>\n",
       "    .dataframe tbody tr th:only-of-type {\n",
       "        vertical-align: middle;\n",
       "    }\n",
       "\n",
       "    .dataframe tbody tr th {\n",
       "        vertical-align: top;\n",
       "    }\n",
       "\n",
       "    .dataframe thead th {\n",
       "        text-align: right;\n",
       "    }\n",
       "</style>\n",
       "<table border=\"1\" class=\"dataframe\">\n",
       "  <thead>\n",
       "    <tr style=\"text-align: right;\">\n",
       "      <th></th>\n",
       "      <th>date</th>\n",
       "    </tr>\n",
       "  </thead>\n",
       "  <tbody>\n",
       "    <tr>\n",
       "      <th>0</th>\n",
       "      <td>2021-12-11 21:37:32</td>\n",
       "    </tr>\n",
       "    <tr>\n",
       "      <th>1</th>\n",
       "      <td>2021-12-11 21:37:19</td>\n",
       "    </tr>\n",
       "    <tr>\n",
       "      <th>2</th>\n",
       "      <td>2021-12-11 21:35:53</td>\n",
       "    </tr>\n",
       "    <tr>\n",
       "      <th>3</th>\n",
       "      <td>2021-12-11 21:31:19</td>\n",
       "    </tr>\n",
       "    <tr>\n",
       "      <th>4</th>\n",
       "      <td>2021-12-11 21:31:19</td>\n",
       "    </tr>\n",
       "  </tbody>\n",
       "</table>\n",
       "</div>"
      ],
      "text/plain": [
       "                 date\n",
       "0 2021-12-11 21:37:32\n",
       "1 2021-12-11 21:37:19\n",
       "2 2021-12-11 21:35:53\n",
       "3 2021-12-11 21:31:19\n",
       "4 2021-12-11 21:31:19"
      ]
     },
     "execution_count": 16,
     "metadata": {},
     "output_type": "execute_result"
    }
   ],
   "source": [
    "time_tweeted = pd.DataFrame(created_at, columns = ['date'])\n",
    "time_tweeted ['date'] = time_tweeted ['date'].astype('datetime64[ns]')\n",
    "\n",
    "time_tweeted.head()"
   ]
  },
  {
   "cell_type": "code",
   "execution_count": 17,
   "id": "ab1c44f8",
   "metadata": {},
   "outputs": [],
   "source": [
    "time_tweeted['month_day'] = pd.to_datetime(time_tweeted.date).dt.strftime('%b %d, %Y')\n",
    "time_tweeted['hour'] = pd.to_datetime(time_tweeted.date).dt.strftime('%H')\n"
   ]
  },
  {
   "cell_type": "code",
   "execution_count": 18,
   "id": "30ed6656",
   "metadata": {},
   "outputs": [
    {
     "data": {
      "text/html": [
       "<div>\n",
       "<style scoped>\n",
       "    .dataframe tbody tr th:only-of-type {\n",
       "        vertical-align: middle;\n",
       "    }\n",
       "\n",
       "    .dataframe tbody tr th {\n",
       "        vertical-align: top;\n",
       "    }\n",
       "\n",
       "    .dataframe thead th {\n",
       "        text-align: right;\n",
       "    }\n",
       "</style>\n",
       "<table border=\"1\" class=\"dataframe\">\n",
       "  <thead>\n",
       "    <tr style=\"text-align: right;\">\n",
       "      <th></th>\n",
       "      <th>date</th>\n",
       "      <th>month_day</th>\n",
       "      <th>hour</th>\n",
       "    </tr>\n",
       "  </thead>\n",
       "  <tbody>\n",
       "    <tr>\n",
       "      <th>0</th>\n",
       "      <td>2021-12-11 21:37:32</td>\n",
       "      <td>Dec 11, 2021</td>\n",
       "      <td>21</td>\n",
       "    </tr>\n",
       "    <tr>\n",
       "      <th>1</th>\n",
       "      <td>2021-12-11 21:37:19</td>\n",
       "      <td>Dec 11, 2021</td>\n",
       "      <td>21</td>\n",
       "    </tr>\n",
       "    <tr>\n",
       "      <th>2</th>\n",
       "      <td>2021-12-11 21:35:53</td>\n",
       "      <td>Dec 11, 2021</td>\n",
       "      <td>21</td>\n",
       "    </tr>\n",
       "    <tr>\n",
       "      <th>3</th>\n",
       "      <td>2021-12-11 21:31:19</td>\n",
       "      <td>Dec 11, 2021</td>\n",
       "      <td>21</td>\n",
       "    </tr>\n",
       "    <tr>\n",
       "      <th>4</th>\n",
       "      <td>2021-12-11 21:31:19</td>\n",
       "      <td>Dec 11, 2021</td>\n",
       "      <td>21</td>\n",
       "    </tr>\n",
       "  </tbody>\n",
       "</table>\n",
       "</div>"
      ],
      "text/plain": [
       "                 date     month_day hour\n",
       "0 2021-12-11 21:37:32  Dec 11, 2021   21\n",
       "1 2021-12-11 21:37:19  Dec 11, 2021   21\n",
       "2 2021-12-11 21:35:53  Dec 11, 2021   21\n",
       "3 2021-12-11 21:31:19  Dec 11, 2021   21\n",
       "4 2021-12-11 21:31:19  Dec 11, 2021   21"
      ]
     },
     "execution_count": 18,
     "metadata": {},
     "output_type": "execute_result"
    }
   ],
   "source": [
    "time_tweeted.head()"
   ]
  },
  {
   "cell_type": "code",
   "execution_count": 19,
   "id": "92ac37ba",
   "metadata": {},
   "outputs": [],
   "source": [
    "tweet_per_day_time = time_tweeted.groupby(['month_day', 'hour']).count()\n"
   ]
  },
  {
   "cell_type": "code",
   "execution_count": 20,
   "id": "3f88822f",
   "metadata": {},
   "outputs": [
    {
     "data": {
      "text/plain": [
       "<AxesSubplot:xlabel='month_day,hour'>"
      ]
     },
     "execution_count": 20,
     "metadata": {},
     "output_type": "execute_result"
    },
    {
     "data": {
      "image/png": "[encoded data removed]",
      "text/plain": [
       "<Figure size 576x432 with 1 Axes>"
      ]
     },
     "metadata": {
      "needs_background": "light"
     },
     "output_type": "display_data"
    }
   ],
   "source": [
    "tweet_per_day_time.plot(figsize=(8,6),rot=45)"
   ]
  },
  {
   "cell_type": "markdown",
   "id": "9297288e",
   "metadata": {},
   "source": [
    "tweet_per_day_time.unstack(level=0).plot(figsize =(10,6), linewidth = 3)\n",
    "plt.xticks()\n",
    "plt.title(\"Number of tweets per hour\")\n",
    "plt.xlabel(\"hour\")\n",
    "plt.show()"
   ]
  },
  {
   "cell_type": "markdown",
   "id": "973eb76e",
   "metadata": {},
   "source": [
    "Estimating Sentiment Score\n",
    "There are many resources describing methods to estimate sentiment. For the purpose of this tutorial, we will use a very simple algorithm which assigns sentiment score of the text by simply counting the number of occurrences of “positive” and “negative” words in a tweet.\n",
    "\n",
    "Hu & Liu have published an “Opinion Lexicon” that categorizes approximately 6,800 words as positive or negative, which can be downloaded from this link:\n",
    "\n",
    "http://www.cs.uic.edu/~liub/FBS/sentiment-analysis.html"
   ]
  },
  {
   "cell_type": "code",
   "execution_count": 21,
   "id": "1ff73f2f",
   "metadata": {},
   "outputs": [
    {
     "data": {
      "text/html": [
       "<div>\n",
       "<style scoped>\n",
       "    .dataframe tbody tr th:only-of-type {\n",
       "        vertical-align: middle;\n",
       "    }\n",
       "\n",
       "    .dataframe tbody tr th {\n",
       "        vertical-align: top;\n",
       "    }\n",
       "\n",
       "    .dataframe thead th {\n",
       "        text-align: right;\n",
       "    }\n",
       "</style>\n",
       "<table border=\"1\" class=\"dataframe\">\n",
       "  <thead>\n",
       "    <tr style=\"text-align: right;\">\n",
       "      <th></th>\n",
       "      <th>positive_words</th>\n",
       "    </tr>\n",
       "  </thead>\n",
       "  <tbody>\n",
       "    <tr>\n",
       "      <th>0</th>\n",
       "      <td>a+</td>\n",
       "    </tr>\n",
       "    <tr>\n",
       "      <th>1</th>\n",
       "      <td>abound</td>\n",
       "    </tr>\n",
       "    <tr>\n",
       "      <th>2</th>\n",
       "      <td>abounds</td>\n",
       "    </tr>\n",
       "    <tr>\n",
       "      <th>3</th>\n",
       "      <td>abundance</td>\n",
       "    </tr>\n",
       "    <tr>\n",
       "      <th>4</th>\n",
       "      <td>abundant</td>\n",
       "    </tr>\n",
       "  </tbody>\n",
       "</table>\n",
       "</div>"
      ],
      "text/plain": [
       "  positive_words\n",
       "0             a+\n",
       "1         abound\n",
       "2        abounds\n",
       "3      abundance\n",
       "4       abundant"
      ]
     },
     "execution_count": 21,
     "metadata": {},
     "output_type": "execute_result"
    }
   ],
   "source": [
    "positive = pd.read_csv('opinion-lexicon-English/positive-words.txt',skiprows= range(29), names =['positive_words'])\n",
    "positive.head()"
   ]
  },
  {
   "cell_type": "code",
   "execution_count": 22,
   "id": "94fcc931",
   "metadata": {},
   "outputs": [
    {
     "data": {
      "text/html": [
       "<div>\n",
       "<style scoped>\n",
       "    .dataframe tbody tr th:only-of-type {\n",
       "        vertical-align: middle;\n",
       "    }\n",
       "\n",
       "    .dataframe tbody tr th {\n",
       "        vertical-align: top;\n",
       "    }\n",
       "\n",
       "    .dataframe thead th {\n",
       "        text-align: right;\n",
       "    }\n",
       "</style>\n",
       "<table border=\"1\" class=\"dataframe\">\n",
       "  <thead>\n",
       "    <tr style=\"text-align: right;\">\n",
       "      <th></th>\n",
       "      <th>negative_words</th>\n",
       "    </tr>\n",
       "  </thead>\n",
       "  <tbody>\n",
       "    <tr>\n",
       "      <th>0</th>\n",
       "      <td>2-faced</td>\n",
       "    </tr>\n",
       "    <tr>\n",
       "      <th>1</th>\n",
       "      <td>2-faces</td>\n",
       "    </tr>\n",
       "    <tr>\n",
       "      <th>2</th>\n",
       "      <td>abnormal</td>\n",
       "    </tr>\n",
       "    <tr>\n",
       "      <th>3</th>\n",
       "      <td>abolish</td>\n",
       "    </tr>\n",
       "    <tr>\n",
       "      <th>4</th>\n",
       "      <td>abominable</td>\n",
       "    </tr>\n",
       "  </tbody>\n",
       "</table>\n",
       "</div>"
      ],
      "text/plain": [
       "  negative_words\n",
       "0        2-faced\n",
       "1        2-faces\n",
       "2       abnormal\n",
       "3        abolish\n",
       "4     abominable"
      ]
     },
     "execution_count": 22,
     "metadata": {},
     "output_type": "execute_result"
    }
   ],
   "source": [
    "negative = pd.read_csv('opinion-lexicon-English/negative-words.txt',skiprows= range(30), names =['negative_words'])\n",
    "negative.head()"
   ]
  },
  {
   "cell_type": "code",
   "execution_count": null,
   "id": "8b0f8e89",
   "metadata": {},
   "outputs": [],
   "source": []
  },
  {
   "cell_type": "code",
   "execution_count": 23,
   "id": "2df311b4",
   "metadata": {},
   "outputs": [],
   "source": [
    "#convert positive and negative dataframes to list\n",
    "positive_list = positive['positive_words'].values.tolist()\n",
    "positive_list.append(['upgrade','Congrats','prizes','prize','thanks','thnx',\n",
    "              'Grt','gr8','plz','trending','recovering','brainstorm','leader'])\n",
    "\n",
    "negative_list = negative['negative_words'].values.tolist()\n",
    "negative_list.append(['wtf','wait','waiting','epicfail','Fight','fighting',\n",
    "              'arrest','no','not'])\n"
   ]
  },
  {
   "cell_type": "code",
   "execution_count": 24,
   "id": "a14269af",
   "metadata": {},
   "outputs": [],
   "source": [
    "pd.set_option('display.max_columns', None)\n",
    "pd.set_option('display.max_rows', None)\n",
    "pd.set_option(\"max_colwidth\", None)"
   ]
  },
  {
   "cell_type": "code",
   "execution_count": 25,
   "id": "fb68f970",
   "metadata": {},
   "outputs": [],
   "source": [
    "def process_tweet(tweet):\n",
    "    '''\n",
    "    Input:\n",
    "        tweet: a string containing a tweet\n",
    "    Output:\n",
    "        tweets_clean: a list of words containing the processed tweet\n",
    "\n",
    "    '''\n",
    "    \n",
    "    # Convert to lowercase\n",
    "    tweet_cleaned = tweet.lower()\n",
    "    \n",
    "    # Tokenize the tweet  \n",
    "    tweets_list = [word for word in tt.tokenize(tweet_cleaned) if word not in stopwords_en]\n",
    "    \n",
    "    tweets_list = list(map(lemmatizer.lemmatize, tweets_list))\n",
    "    \n",
    "    # Convert list to string\n",
    "    tweet_cleaned = \" \".join(tweets_list)\n",
    "\n",
    "    # remove old style retweet text \"RT\"\n",
    "    tweet_cleaned = re.sub(r'^rt[\\s]+', ' ', tweet_cleaned)\n",
    "    \n",
    "\n",
    "    \n",
    "    # remove hashtags\n",
    "    # only removing the hash # sign from the word\n",
    "    tweet_cleaned = re.sub(r'#', '', tweet_cleaned)\n",
    "\n",
    "    #remove at @\n",
    "    tweet_cleaned = re.sub(r'@\\w*\\W*', ' ', tweet_cleaned)\n",
    "\n",
    "    # Remove numbers\n",
    "#    tweet_cleaned = re.sub(r'\\s\\d+', ' ', tweet_cleaned)\n",
    "    tweet_cleaned = re.sub(r'\\s*\\w*\\d+\\w*', ' ', tweet_cleaned)\n",
    "        \n",
    "    ####\n",
    "    # remove hyperlinks\n",
    "    tweet_cleaned = re.sub(r'https?:\\/\\/.*[\\r\\n]*', '', tweet_cleaned)\n",
    "    \n",
    "    \n",
    "        #Remove non-ascii \n",
    "    tweet_cleaned = re.sub(r'[^\\x00-\\x7F]', ' ', tweet_cleaned)\n",
    "    \n",
    "\n",
    "    # Remove non-word character (also punctuations)\n",
    "    tweet_cleaned = re.sub(r'\\s*\\W+', ' ', tweet_cleaned)\n",
    "\n",
    "    # remove blank spaces at the beginning and end\n",
    "    tweet_cleaned = re.sub(r'^ * | *$', '', tweet_cleaned)   \n",
    "    \n",
    "    return tweet_cleaned"
   ]
  },
  {
   "cell_type": "code",
   "execution_count": 26,
   "id": "cccc3d30",
   "metadata": {},
   "outputs": [
    {
     "data": {
      "text/plain": [
       "['RT @SCVIndy: @BeeAsMarine Interestingly it’s us that has solution to #climatechange in that each individual’s consumption nonrenewable #Fos…',\n",
       " 'The Communist Party of the USA https://t.co/9wwhIQUH9a\\ncan fill you in on all the latest news on the Kellogg’s stri… https://t.co/FsGgpLHN6z',\n",
       " 'RT @fartsaucier: Did y’all know that the manatees around FL are ALL starving to death (100’s/week) because the sea grass they eat is dead d…',\n",
       " 'RT @OfficialMBTM: Carol hath spoken...\\n\\nMore here https://t.co/QwdtxBeYXU\\n\\n#caroldecker #tpau #musiclegend #climatechange #savetheplanet #g…',\n",
       " 'RT @OfficialMBTM: Me too brother...\\n\\nMore here https://t.co/QwdtxBeYXU\\n\\n#peterbeckett #player #globalwarming #climatechange #climatecrisis…',\n",
       " 'RT @OfficialMBTM: Me too brother...\\n\\nMore here https://t.co/QwdtxBeYXU\\n\\n#peterbeckett #player #globalwarming #climatechange #climatecrisis…',\n",
       " 'RT @OfficialMBTM: Carol hath spoken...\\n\\nMore here https://t.co/QwdtxBeYXU\\n\\n#caroldecker #tpau #musiclegend #climatechange #savetheplanet #g…',\n",
       " '@JoeBiden Y don’t you talk to the BIGGEST OFFENDER OF POLLUTION China creating #GlobalWarming ???',\n",
       " 'RT @RealAllen1Deb: Those of you saying this tornado outbreak was \"God\\'s judgment\"\\nGET OUT OF THE FUCKING DARK AGES!! The science doesn\\'t li…',\n",
       " 'Did y’all know that the manatees around FL are ALL starving to death (100’s/week) because the sea grass they eat is… https://t.co/vSUXUbVIkx']"
      ]
     },
     "execution_count": 26,
     "metadata": {},
     "output_type": "execute_result"
    }
   ],
   "source": [
    "tweets_org[0:10]"
   ]
  },
  {
   "cell_type": "code",
   "execution_count": 27,
   "id": "700efd16",
   "metadata": {},
   "outputs": [
    {
     "data": {
      "text/plain": [
       "['beeasmarine interestingly u solution climatechange individual consumption nonrenewable fos',\n",
       " 'communist party usa',\n",
       " 'know manatee around fl starving death week sea grass eat dead',\n",
       " 'carol hath spoken',\n",
       " 'brother',\n",
       " 'brother',\n",
       " 'carol hath spoken',\n",
       " 'talk biggest offender pollution china creating globalwarming',\n",
       " 'saying tornado outbreak god s judgment get fucking dark age science li',\n",
       " 'know manatee around fl starving death week sea grass eat']"
      ]
     },
     "execution_count": 27,
     "metadata": {},
     "output_type": "execute_result"
    }
   ],
   "source": [
    "tweets_cleaned = list(map(process_tweet, tweets_org))\n",
    "tweets_cleaned[0:10]"
   ]
  },
  {
   "cell_type": "code",
   "execution_count": 28,
   "id": "802cac09",
   "metadata": {},
   "outputs": [
    {
     "data": {
      "text/html": [
       "<div>\n",
       "<style scoped>\n",
       "    .dataframe tbody tr th:only-of-type {\n",
       "        vertical-align: middle;\n",
       "    }\n",
       "\n",
       "    .dataframe tbody tr th {\n",
       "        vertical-align: top;\n",
       "    }\n",
       "\n",
       "    .dataframe thead th {\n",
       "        text-align: right;\n",
       "    }\n",
       "</style>\n",
       "<table border=\"1\" class=\"dataframe\">\n",
       "  <thead>\n",
       "    <tr style=\"text-align: right;\">\n",
       "      <th></th>\n",
       "      <th>0</th>\n",
       "    </tr>\n",
       "  </thead>\n",
       "  <tbody>\n",
       "    <tr>\n",
       "      <th>0</th>\n",
       "      <td>beeasmarine interestingly u solution climatechange individual consumption nonrenewable fos</td>\n",
       "    </tr>\n",
       "    <tr>\n",
       "      <th>1</th>\n",
       "      <td>communist party usa</td>\n",
       "    </tr>\n",
       "    <tr>\n",
       "      <th>2</th>\n",
       "      <td>know manatee around fl starving death week sea grass eat dead</td>\n",
       "    </tr>\n",
       "    <tr>\n",
       "      <th>3</th>\n",
       "      <td>carol hath spoken</td>\n",
       "    </tr>\n",
       "    <tr>\n",
       "      <th>4</th>\n",
       "      <td>brother</td>\n",
       "    </tr>\n",
       "  </tbody>\n",
       "</table>\n",
       "</div>"
      ],
      "text/plain": [
       "                                                                                            0\n",
       "0  beeasmarine interestingly u solution climatechange individual consumption nonrenewable fos\n",
       "1                                                                         communist party usa\n",
       "2                               know manatee around fl starving death week sea grass eat dead\n",
       "3                                                                           carol hath spoken\n",
       "4                                                                                     brother"
      ]
     },
     "execution_count": 28,
     "metadata": {},
     "output_type": "execute_result"
    }
   ],
   "source": [
    "# Convert list to DataFrame\n",
    "tweets_df = pd.DataFrame(tweets_cleaned)\n",
    "tweets_df.head()"
   ]
  },
  {
   "cell_type": "code",
   "execution_count": 30,
   "id": "f6fced43",
   "metadata": {},
   "outputs": [
    {
     "data": {
      "text/plain": [
       "0    90\n",
       "1    19\n",
       "2    61\n",
       "3    17\n",
       "4     7\n",
       "dtype: int64"
      ]
     },
     "execution_count": 30,
     "metadata": {},
     "output_type": "execute_result"
    }
   ],
   "source": [
    "# length of each tweet\n",
    "tweets_df.apply(lambda x: len(x.values[0]), axis=1).head()"
   ]
  },
  {
   "cell_type": "code",
   "execution_count": 31,
   "id": "982551bf",
   "metadata": {},
   "outputs": [],
   "source": [
    "# Going through each tweet, if there is a match in positive list replace with True, or \n",
    "# if there is a match in negative list replace with True"
   ]
  },
  {
   "cell_type": "code",
   "execution_count": 32,
   "id": "32c29e33",
   "metadata": {},
   "outputs": [],
   "source": [
    "pos_score = []\n",
    "# Replace every element matched with pos list with True, repalce NaN with 0\n",
    "# add values for each index, save it in numpy array\n",
    "for j in range(len(tweets_cleaned)):\n",
    "    \n",
    "    text_split_score = [True if i in positive_list else np.nan for i in tweets_cleaned[j].split()]\n",
    "    text_split_score = [0 if np.isnan(x) else x for x in text_split_score]\n",
    "    pos_score.append(text_split_score)      \n",
    "\n",
    "\n",
    "pos_array = np.array([])\n",
    "for i in pos_score:\n",
    "    pos_array = np.append(pos_array, sum(i))\n"
   ]
  },
  {
   "cell_type": "code",
   "execution_count": 33,
   "id": "628e823a",
   "metadata": {},
   "outputs": [],
   "source": [
    "neg_score = []\n",
    "# Replace every element matched with negative list with True, repalce NaN with 0\n",
    "# add values for each index, save it in numpy array\n",
    "for j in range(len(tweets_cleaned)):\n",
    "    \n",
    "    text_split_score = [True if i in negative_list else np.nan for i in tweets_cleaned[j].split()]\n",
    "    text_split_score = [0 if np.isnan(x) else x for x in text_split_score]\n",
    "    neg_score.append(text_split_score)      \n",
    "#print(pos_score)\n",
    "\n",
    "\n",
    "neg_array = np.array([])\n",
    "for i in neg_score:\n",
    "    neg_array = np.append(neg_array, sum(i))\n"
   ]
  },
  {
   "cell_type": "code",
   "execution_count": 34,
   "id": "e99cb48e",
   "metadata": {},
   "outputs": [],
   "source": [
    "# Subtracting postive score from negative score to find out about sentiment analysis of each tweet\n",
    "score_arr = pos_array - neg_array\n"
   ]
  },
  {
   "cell_type": "code",
   "execution_count": 35,
   "id": "8ef3b193",
   "metadata": {},
   "outputs": [
    {
     "data": {
      "text/html": [
       "<div>\n",
       "<style scoped>\n",
       "    .dataframe tbody tr th:only-of-type {\n",
       "        vertical-align: middle;\n",
       "    }\n",
       "\n",
       "    .dataframe tbody tr th {\n",
       "        vertical-align: top;\n",
       "    }\n",
       "\n",
       "    .dataframe thead th {\n",
       "        text-align: right;\n",
       "    }\n",
       "</style>\n",
       "<table border=\"1\" class=\"dataframe\">\n",
       "  <thead>\n",
       "    <tr style=\"text-align: right;\">\n",
       "      <th></th>\n",
       "      <th>score</th>\n",
       "    </tr>\n",
       "  </thead>\n",
       "  <tbody>\n",
       "    <tr>\n",
       "      <th>0</th>\n",
       "      <td>0.0</td>\n",
       "    </tr>\n",
       "    <tr>\n",
       "      <th>1</th>\n",
       "      <td>0.0</td>\n",
       "    </tr>\n",
       "    <tr>\n",
       "      <th>2</th>\n",
       "      <td>-2.0</td>\n",
       "    </tr>\n",
       "    <tr>\n",
       "      <th>3</th>\n",
       "      <td>0.0</td>\n",
       "    </tr>\n",
       "    <tr>\n",
       "      <th>4</th>\n",
       "      <td>0.0</td>\n",
       "    </tr>\n",
       "  </tbody>\n",
       "</table>\n",
       "</div>"
      ],
      "text/plain": [
       "   score\n",
       "0    0.0\n",
       "1    0.0\n",
       "2   -2.0\n",
       "3    0.0\n",
       "4    0.0"
      ]
     },
     "execution_count": 35,
     "metadata": {},
     "output_type": "execute_result"
    }
   ],
   "source": [
    "score_df = pd.DataFrame(score_arr, columns=['score'])\n",
    "score_df.head()"
   ]
  },
  {
   "cell_type": "code",
   "execution_count": 36,
   "id": "c2eefcf9",
   "metadata": {},
   "outputs": [
    {
     "data": {
      "text/html": [
       "<div>\n",
       "<style scoped>\n",
       "    .dataframe tbody tr th:only-of-type {\n",
       "        vertical-align: middle;\n",
       "    }\n",
       "\n",
       "    .dataframe tbody tr th {\n",
       "        vertical-align: top;\n",
       "    }\n",
       "\n",
       "    .dataframe thead th {\n",
       "        text-align: right;\n",
       "    }\n",
       "</style>\n",
       "<table border=\"1\" class=\"dataframe\">\n",
       "  <thead>\n",
       "    <tr style=\"text-align: right;\">\n",
       "      <th></th>\n",
       "      <th>score</th>\n",
       "    </tr>\n",
       "  </thead>\n",
       "  <tbody>\n",
       "    <tr>\n",
       "      <th>0</th>\n",
       "      <td>0</td>\n",
       "    </tr>\n",
       "    <tr>\n",
       "      <th>1</th>\n",
       "      <td>0</td>\n",
       "    </tr>\n",
       "    <tr>\n",
       "      <th>2</th>\n",
       "      <td>-2</td>\n",
       "    </tr>\n",
       "    <tr>\n",
       "      <th>3</th>\n",
       "      <td>0</td>\n",
       "    </tr>\n",
       "    <tr>\n",
       "      <th>4</th>\n",
       "      <td>0</td>\n",
       "    </tr>\n",
       "  </tbody>\n",
       "</table>\n",
       "</div>"
      ],
      "text/plain": [
       "   score\n",
       "0      0\n",
       "1      0\n",
       "2     -2\n",
       "3      0\n",
       "4      0"
      ]
     },
     "execution_count": 36,
     "metadata": {},
     "output_type": "execute_result"
    }
   ],
   "source": [
    "# Convert score type from float to integer\n",
    "score_df['score'] = score_df['score'].astype('int')\n",
    "score_df.head()"
   ]
  },
  {
   "cell_type": "code",
   "execution_count": 37,
   "id": "30b1c6c9",
   "metadata": {},
   "outputs": [
    {
     "data": {
      "text/plain": [
       " 0    457\n",
       " 1    245\n",
       "-1    150\n",
       "-2     68\n",
       " 2     68\n",
       "-3      6\n",
       " 3      6\n",
       "Name: score, dtype: int64"
      ]
     },
     "execution_count": 37,
     "metadata": {},
     "output_type": "execute_result"
    }
   ],
   "source": [
    "# Frequecy of scores\n",
    "score_df['score'].value_counts()"
   ]
  },
  {
   "cell_type": "markdown",
   "id": "d7421a45",
   "metadata": {},
   "source": [
    "## Histogram of sentiment scores:"
   ]
  },
  {
   "cell_type": "code",
   "execution_count": 38,
   "id": "3e6fba8b",
   "metadata": {},
   "outputs": [
    {
     "data": {
      "text/plain": [
       "(array([  6.,  68., 150., 457., 245.,  74.]),\n",
       " array([-3., -2., -1.,  0.,  1.,  2.,  3.]),\n",
       " <BarContainer object of 6 artists>)"
      ]
     },
     "execution_count": 38,
     "metadata": {},
     "output_type": "execute_result"
    },
    {
     "data": {
      "image/png": "[encoded data removed]",
      "text/plain": [
       "<Figure size 432x432 with 1 Axes>"
      ]
     },
     "metadata": {
      "needs_background": "light"
     },
     "output_type": "display_data"
    }
   ],
   "source": [
    "plt.figure(figsize=(6,6))\n",
    "plt.hist(score_df,bins=6, color='b', alpha=0.5)"
   ]
  },
  {
   "cell_type": "code",
   "execution_count": 39,
   "id": "c50367b5",
   "metadata": {},
   "outputs": [
    {
     "data": {
      "text/html": [
       "<div>\n",
       "<style scoped>\n",
       "    .dataframe tbody tr th:only-of-type {\n",
       "        vertical-align: middle;\n",
       "    }\n",
       "\n",
       "    .dataframe tbody tr th {\n",
       "        vertical-align: top;\n",
       "    }\n",
       "\n",
       "    .dataframe thead th {\n",
       "        text-align: right;\n",
       "    }\n",
       "</style>\n",
       "<table border=\"1\" class=\"dataframe\">\n",
       "  <thead>\n",
       "    <tr style=\"text-align: right;\">\n",
       "      <th></th>\n",
       "      <th>score</th>\n",
       "      <th>type</th>\n",
       "    </tr>\n",
       "  </thead>\n",
       "  <tbody>\n",
       "    <tr>\n",
       "      <th>0</th>\n",
       "      <td>0</td>\n",
       "      <td>neutral</td>\n",
       "    </tr>\n",
       "    <tr>\n",
       "      <th>1</th>\n",
       "      <td>0</td>\n",
       "      <td>neutral</td>\n",
       "    </tr>\n",
       "    <tr>\n",
       "      <th>2</th>\n",
       "      <td>-2</td>\n",
       "      <td>negative</td>\n",
       "    </tr>\n",
       "    <tr>\n",
       "      <th>3</th>\n",
       "      <td>0</td>\n",
       "      <td>neutral</td>\n",
       "    </tr>\n",
       "    <tr>\n",
       "      <th>4</th>\n",
       "      <td>0</td>\n",
       "      <td>neutral</td>\n",
       "    </tr>\n",
       "  </tbody>\n",
       "</table>\n",
       "</div>"
      ],
      "text/plain": [
       "   score      type\n",
       "0      0   neutral\n",
       "1      0   neutral\n",
       "2     -2  negative\n",
       "3      0   neutral\n",
       "4      0   neutral"
      ]
     },
     "execution_count": 39,
     "metadata": {},
     "output_type": "execute_result"
    }
   ],
   "source": [
    "# categorize score values to types (neutral, positive, and negative)\n",
    "score_df['type'] = np.where(score_df['score'] == 0, 'neutral', \n",
    "                            np.where(score_df['score'] >  0, 'positive', \n",
    "                                                np.where(score_df['score'] <  0, 'negative',np.nan))) \n",
    "    \n",
    "score_df.head()"
   ]
  },
  {
   "cell_type": "code",
   "execution_count": 40,
   "id": "b7256e42",
   "metadata": {},
   "outputs": [
    {
     "data": {
      "text/plain": [
       "neutral     457\n",
       "positive    319\n",
       "negative    224\n",
       "Name: type, dtype: int64"
      ]
     },
     "execution_count": 40,
     "metadata": {},
     "output_type": "execute_result"
    }
   ],
   "source": [
    "# Frequecy of tweet types\n",
    "score_df['type'].value_counts()"
   ]
  },
  {
   "cell_type": "code",
   "execution_count": 41,
   "id": "65d3dec8",
   "metadata": {},
   "outputs": [
    {
     "data": {
      "text/plain": [
       "<AxesSubplot:title={'center':'Barplot of sentiment type'}, xlabel='Sentiment', ylabel='Count'>"
      ]
     },
     "execution_count": 41,
     "metadata": {},
     "output_type": "execute_result"
    },
    {
     "data": {
      "image/png": "[encoded data removed]",
      "text/plain": [
       "<Figure size 432x288 with 1 Axes>"
      ]
     },
     "metadata": {
      "needs_background": "light"
     },
     "output_type": "display_data"
    }
   ],
   "source": [
    "# Barplot of sentiment type:\n",
    "\n",
    "score_df['type'].value_counts().plot(kind='bar', title ='Barplot of sentiment type', \n",
    "                                     xlabel='Sentiment', ylabel = 'Count', color='r', alpha =0.5)"
   ]
  },
  {
   "cell_type": "code",
   "execution_count": null,
   "id": "89376ecb",
   "metadata": {},
   "outputs": [],
   "source": []
  }
 ],
 "metadata": {
  "kernelspec": {
   "display_name": "Python 3.9.4 64-bit ('PythonAdv': conda)",
   "language": "python",
   "name": "python394jvsc74a57bd01c57b422e1566e200f820267b75cce6d44d21cc07fb8acb3ea4b77bc02dfd528"
  },
  "language_info": {
   "codemirror_mode": {
    "name": "ipython",
    "version": 3
   },
   "file_extension": ".py",
   "mimetype": "text/x-python",
   "name": "python",
   "nbconvert_exporter": "python",
   "pygments_lexer": "ipython3",
   "version": "3.9.4"
  }
 },
 "nbformat": 4,
 "nbformat_minor": 5
}
